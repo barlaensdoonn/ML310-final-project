{
 "cells": [
  {
   "cell_type": "markdown",
   "metadata": {},
   "source": [
    "# DELETWEET SENTIMENT ANALYSIS"
   ]
  },
  {
   "cell_type": "markdown",
   "metadata": {},
   "source": [
    "***"
   ]
  },
  {
   "cell_type": "code",
   "execution_count": 1,
   "metadata": {
    "collapsed": false
   },
   "outputs": [],
   "source": [
    "import json\n",
    "import pandas\n",
    "import matplotlib\n",
    "import nltk.classify.util\n",
    "from nltk.corpus import twitter_samples\n",
    "from nltk.classify import NaiveBayesClassifier\n",
    "from nltk.tokenize import TweetTokenizer\n",
    "from matplotlib import pyplot as plt\n",
    "\n",
    "%matplotlib inline\n",
    "matplotlib.rcParams['figure.figsize'] = [18.0, 12.0]"
   ]
  },
  {
   "cell_type": "markdown",
   "metadata": {},
   "source": [
    "***\n",
    "## *TRAIN CLASSIFIER*"
   ]
  },
  {
   "cell_type": "markdown",
   "metadata": {},
   "source": [
    "NLTK provides a [HOW-TO](http://www.nltk.org/howto/twitter.html) which serves as a tutorial for using their built-in classes to interact with the Twitter API and gather a tweet corpus to use for text mining and natural language processing. They also provide their own Twitter corpus which consists of three separate sections: the first is a random collection of tweets gathered within a certain timeframe under certain search parameters. The other two are collections of 5,000 tweets each, classified as expressing positive and negative sentiment respectively.\n",
    "\n",
    "Interestingly the tweets were gathered and classed by searching for text emojis relevant to the desired emotion. For example, tweets containing emojis such as :-), :), ;), :o), :] were classified as positive, while tweets containing emojis like :L, :<, :-(, >.< were classified as negative. The negative class has [in my opinion] more potentially neutral - or just non-negative - emojis than the positive class, such as :S, :@ and =/. This could lead to more neutral texts being classified as negative, which we will see happen later on.\n",
    "\n",
    "For training our Naive Bayes Classifier we used StreamHacker's [series of blog posts](http://streamhacker.com/2010/05/10/text-classification-sentiment-analysis-naive-bayes-classifier/) as a guide. The interface to the classifier is provided by NLTK, as is the tokenized version of the tweet corpus. However, we normalized their provided tweet corpus by converting the tokenized text to lowercase before training, which greatly improved the relevance of the classifier's most informative features."
   ]
  },
  {
   "cell_type": "code",
   "execution_count": 2,
   "metadata": {
    "collapsed": true
   },
   "outputs": [],
   "source": [
    "def word_feats(words):\n",
    "    '''\n",
    "    this function borrowed from: http://streamhacker.com/2010/05/10/text-classification-sentiment-analysis-naive-bayes-classifier/\n",
    "\n",
    "    \"All of the NLTK classifiers work with featstructs, which can be simple dictionaries\n",
    "    mapping a feature name to a feature value. For text, we’ll use a simplified\n",
    "    bag of words model where every word is feature name with a value of True.\"\n",
    "    '''\n",
    "\n",
    "    return dict([(word, True) for word in words])"
   ]
  },
  {
   "cell_type": "code",
   "execution_count": 3,
   "metadata": {
    "collapsed": true
   },
   "outputs": [],
   "source": [
    "# pull out tokenized text from the classified tweets provided by NLTK\n",
    "# more info: http://www.nltk.org/howto/twitter.html#Using-a-Tweet-Corpus\n",
    "tokenized_negative = twitter_samples.tokenized('negative_tweets.json')\n",
    "tokenized_positive = twitter_samples.tokenized('positive_tweets.json')"
   ]
  },
  {
   "cell_type": "code",
   "execution_count": 4,
   "metadata": {
    "collapsed": true
   },
   "outputs": [],
   "source": [
    "# normalize text by transforming to lowercase\n",
    "negatives_normalized = [[word.lower() for word in thing] for thing in tokenized_negative]\n",
    "positives_normalized = [[word.lower() for word in thing] for thing in tokenized_positive]"
   ]
  },
  {
   "cell_type": "code",
   "execution_count": 5,
   "metadata": {
    "collapsed": true
   },
   "outputs": [],
   "source": [
    "# pass tokenized text through wordfeats() to convert into featstructs for NLTK classifier\n",
    "negatives = [(word_feats(negatives_normalized[i]), 'neg') for i in range(len(tokenized_negative))]\n",
    "positives = [(word_feats(positives_normalized[i]), 'pos') for i in range(len(tokenized_positive))]"
   ]
  },
  {
   "cell_type": "code",
   "execution_count": 6,
   "metadata": {
    "collapsed": false
   },
   "outputs": [
    {
     "name": "stdout",
     "output_type": "stream",
     "text": [
      "train on 7500 instances, test on 2500 instances\n"
     ]
    }
   ],
   "source": [
    "# split dataset into 75% train/25% test\n",
    "neg_split = int(len(negatives) * 0.75)\n",
    "pos_split = int(len(positives) * 0.75)\n",
    "train_feats = negatives[:neg_split] + positives[:pos_split]\n",
    "test_feats = negatives[neg_split:] + positives[pos_split:]\n",
    "print('train on {} instances, test on {} instances'.format(len(train_feats), len(test_feats)))"
   ]
  },
  {
   "cell_type": "code",
   "execution_count": 8,
   "metadata": {
    "collapsed": false
   },
   "outputs": [
    {
     "name": "stdout",
     "output_type": "stream",
     "text": [
      "accuracy: 99.36%\n"
     ]
    }
   ],
   "source": [
    "# train the classifier and determine its accuracy\n",
    "classifier = NaiveBayesClassifier.train(train_feats)\n",
    "print('accuracy: {:.2%}'.format(nltk.classify.util.accuracy(classifier, test_feats)))"
   ]
  },
  {
   "cell_type": "code",
   "execution_count": 9,
   "metadata": {
    "collapsed": false,
    "scrolled": true
   },
   "outputs": [
    {
     "name": "stdout",
     "output_type": "stream",
     "text": [
      "Most Informative Features\n",
      "                      :( = True              neg : pos    =   2214.3 : 1.0\n",
      "                      :) = True              pos : neg    =   1073.8 : 1.0\n",
      "                    glad = True              pos : neg    =     25.7 : 1.0\n",
      "                     x15 = True              neg : pos    =     23.7 : 1.0\n",
      "                 arrived = True              pos : neg    =     21.8 : 1.0\n",
      "                     sad = True              neg : pos    =     21.2 : 1.0\n",
      "                    sick = True              neg : pos    =     19.7 : 1.0\n",
      "               community = True              pos : neg    =     15.7 : 1.0\n",
      "                   loves = True              pos : neg    =     14.1 : 1.0\n",
      "                     ugh = True              neg : pos    =     13.7 : 1.0\n",
      "                    miss = True              neg : pos    =     13.3 : 1.0\n",
      "                      aw = True              neg : pos    =     13.0 : 1.0\n",
      "              definitely = True              pos : neg    =     13.0 : 1.0\n",
      "                   shame = True              neg : pos    =     12.3 : 1.0\n",
      "                follback = True              pos : neg    =     12.3 : 1.0\n",
      "                   didnt = True              neg : pos    =     12.3 : 1.0\n",
      "              appreciate = True              pos : neg    =     11.7 : 1.0\n",
      "              bestfriend = True              pos : neg    =     11.0 : 1.0\n",
      "                   hurts = True              neg : pos    =     11.0 : 1.0\n",
      "           @justinbieber = True              neg : pos    =     10.6 : 1.0\n",
      "                   sorry = True              neg : pos    =     10.2 : 1.0\n",
      "               followers = True              pos : neg    =     10.2 : 1.0\n",
      "                       ( = True              neg : pos    =     10.2 : 1.0\n",
      "                   tired = True              neg : pos    =     10.1 : 1.0\n",
      "               goodnight = True              pos : neg    =      9.7 : 1.0\n",
      "                    huhu = True              neg : pos    =      9.7 : 1.0\n",
      "                   enjoy = True              pos : neg    =      9.4 : 1.0\n",
      "                     via = True              pos : neg    =      9.3 : 1.0\n",
      "                   thank = True              pos : neg    =      9.1 : 1.0\n",
      "                   @uber = True              neg : pos    =      9.0 : 1.0\n",
      "                    cold = True              neg : pos    =      9.0 : 1.0\n",
      "           unfortunately = True              neg : pos    =      9.0 : 1.0\n",
      "           opportunities = True              pos : neg    =      9.0 : 1.0\n",
      "                 welcome = True              pos : neg    =      9.0 : 1.0\n",
      "                      :( = None              pos : neg    =      8.7 : 1.0\n",
      "                   great = True              pos : neg    =      8.4 : 1.0\n",
      "                  invite = True              pos : neg    =      8.3 : 1.0\n",
      "                     thx = True              pos : neg    =      8.3 : 1.0\n",
      "                 sharing = True              pos : neg    =      7.8 : 1.0\n",
      "                  missed = True              neg : pos    =      7.8 : 1.0\n"
     ]
    }
   ],
   "source": [
    "# show the features the classifier determined were most informative for classification\n",
    "classifier.show_most_informative_features(40)"
   ]
  },
  {
   "cell_type": "markdown",
   "metadata": {},
   "source": [
    "After training we can see that the classifier's most informative features are indeed good indicators for text sentiment. Words such as 'loves', 'appreciate', 'enjoy', 'welcome', 'great', and 'thank' are all correctly identified as expressing positive sentiment, while words such as 'sad', 'sick', 'ugh', 'hurts', and 'sorry' are indicative of negative sentiment. The text emojis :) and :( are the strongest indicators of positive and negative sentiment respectively, which makes sense given how the tweets were chosen and classified initially. Interestingly the 2 twitter users @justinbieber and @uber are both associated with negative sentiment, which may be an indicator of popular public opinion of those two users at the time the tweets were gathered. These features also suggest that if our classifier extends poorly to tweets in the wild, we might need to do more preprocessing of the training set, such as removing special characters and twitter users. It is worth noting that the NLTK tweet tokenizer has an optional parameter that allows for the removal of twitter usernames from the text during tokenization."
   ]
  },
  {
   "cell_type": "markdown",
   "metadata": {},
   "source": [
    "***\n",
    "## *CLASSIFY DATASET*"
   ]
  },
  {
   "cell_type": "markdown",
   "metadata": {},
   "source": [
    "Here we use our trained Naive Bayes classifier to classify the Politwoops dataset of deleted tweets. Before classification we again use the word_feats() function to construct a featstruct out of our tokenized dataset for the classifier, as we did with NLTK's corpus before training."
   ]
  },
  {
   "cell_type": "code",
   "execution_count": 10,
   "metadata": {
    "collapsed": true
   },
   "outputs": [],
   "source": [
    "# import dataset\n",
    "deletweet = pandas.read_csv('../../deletweet/data/deleted_tweets_cleaned.csv')"
   ]
  },
  {
   "cell_type": "code",
   "execution_count": 11,
   "metadata": {
    "collapsed": false
   },
   "outputs": [],
   "source": [
    "# construct a list of strings to hold the tweet text\n",
    "tweet_text_raw = []\n",
    "\n",
    "for i in range(len(deletweet)):\n",
    "    tweet = json.loads(deletweet['tweet'][i])\n",
    "    tweet_text_raw.append(tweet['text'])"
   ]
  },
  {
   "cell_type": "code",
   "execution_count": 12,
   "metadata": {
    "collapsed": false
   },
   "outputs": [
    {
     "data": {
      "text/plain": [
       "67756"
      ]
     },
     "execution_count": 12,
     "metadata": {},
     "output_type": "execute_result"
    }
   ],
   "source": [
    "# number of individual tweets to classify\n",
    "len(tweet_text_raw)"
   ]
  },
  {
   "cell_type": "code",
   "execution_count": 13,
   "metadata": {
    "collapsed": false
   },
   "outputs": [],
   "source": [
    "# use the tweet tokenizer provided by NLTK\n",
    "# preserve_case=False will transform all to lowercase\n",
    "tknzr = TweetTokenizer(preserve_case=False)\n",
    "tokenized = [tknzr.tokenize(tweet_text_raw[i]) for i in range(len(tweet_text_raw))]"
   ]
  },
  {
   "cell_type": "code",
   "execution_count": 14,
   "metadata": {
    "collapsed": true
   },
   "outputs": [],
   "source": [
    "# run tokenized lists through word_feats() to construct featstruct for NLTK classifier\n",
    "features = [word_feats(tokenized[i]) for i in range(len(tokenized))] "
   ]
  },
  {
   "cell_type": "code",
   "execution_count": 15,
   "metadata": {
    "collapsed": false
   },
   "outputs": [],
   "source": [
    "# classify!\n",
    "classed = classifier.classify_many(features)"
   ]
  },
  {
   "cell_type": "code",
   "execution_count": 16,
   "metadata": {
    "collapsed": true
   },
   "outputs": [],
   "source": [
    "classified_tweets = list(zip(classed, tweet_text_raw))"
   ]
  },
  {
   "cell_type": "markdown",
   "metadata": {},
   "source": [
    "***\n",
    "## *PLOT AND ANALYSIS*"
   ]
  },
  {
   "cell_type": "markdown",
   "metadata": {},
   "source": [
    "The first 30 tweets from the Politwoops dataset are printed out below, along with their classified sentiment. After reading through these and other subsets of the classified dataset we can see that the classifier performs fairly well, although not perfectly, as indicated by the very first tweet being misclassified as negative. There is definite room for improvement, and a more robust feature set for training would likely go a long way. Expanding on the original search by specifically gathering tweets of a political nature in association with positive and negative text emojis would likely help ameliorate the deficiencies of the classifier.\n",
    "\n",
    "Also after examining these results, it seems that the biggest improvement would come from the addition of a third neutral class: many of the tweets are ambiguous in sentiment, and therefore do not fit well into either the positive or negative classes."
   ]
  },
  {
   "cell_type": "code",
   "execution_count": 17,
   "metadata": {
    "collapsed": false
   },
   "outputs": [
    {
     "name": "stdout",
     "output_type": "stream",
     "text": [
      "neg : This is so cool. This same sort of adaptive protocol is being used with shipping drones as well. https://t.co/pLuU2ljAmg\n",
      "pos : https://t.co/V7Rc07GrJU\n",
      "pos : #TBT @MikePenceVP https://t.co/tSZUjMjaaI\n",
      "pos : I had a cordial and candidate discussion today with the new DHS Secretary, John Kelly. https://t.co/4neFHS3Mji\n",
      "pos : Grt to host @USProgressives Specl Order w/@RepRaskin on #MuslimBan.Thx @RepMarkTakano @RepLawrence @RepGaramendi @RepCicilline @RepBarragan\n",
      "pos : I'm an original co-sponsor of @RepDonBeyer’s Freedom of Religon Act, protecting our values in response to @POTUS’ #MuslimBan. #FORAct\n",
      "neg : ⚡️ “Rieckhoff vs. Tester”\n",
      "\n",
      "https://t.co/JBr4v7j5PM\n",
      "pos : @IAVA CEO @PaulRieckhoff &amp; I are going #Head2Head to determine who dons the better ‘do. Post #Jon or #Paul to cast… https://t.co/GemjAHTZf7\n",
      "pos : @IAVA CEO @PaulRieckhoff &amp; I are going #Head2Head to determine who dons the better ‘do. Post #Jon or #Paul to cast your vote below!\n",
      "pos : @IAVA CEO @PaulReickhoff &amp; I are going #Head2Head to determine who dons the better ‘do. Reply with #Jon or #Paul to… https://t.co/D6JAMWIQVD\n",
      "pos : @IAVA CEO @PaulReickhoff and I are going #Head2Head to determine, once and for all, who dons the better ‘do. Cast y… https://t.co/IN8GU4Cf6i\n",
      "pos : @IAVA CEO @PaulReickhoff &amp; I are going #Head2Head to determine, once and for all, who dons the better ‘do. Cast you… https://t.co/XbDY4WicBO\n",
      "pos : .@HouseGOP have privately (&amp; rightfully) expressed fears about what #ACARepeal would mean for Americans. I thought… https://t.co/L29B3lPrAG\n",
      "pos : Not to worry. @realDonaldTrump promises to deliver a sensible, coherent plan for #MiddleEast peace on February 31. https://t.co/A3WYrOiIZY\n",
      "neg : Right now, Voting NO on going to Executive Session for nomination Price, Mnuchin and Sessions. No on Devos tomorrow morning.\n",
      "pos : These words take on new meaning in the #Trump Administration. https://t.co/TKHksDSGjn\n",
      "pos : .@HouseGOP have privately (&amp; rightfully) expressed fears about what #ACARepeal would mean for Americans. I thought… https://t.co/b9gwivlASJ\n",
      "pos : .@SenateMajLdr McConnell comments on measure --&gt; Video here: https://t.co/0yxGDq8cY6\n",
      "@WLKY https://t.co/WBq3aIm8Sc\n",
      "pos : .@SenateMajLdr McConnell comments on passage of anti-coal measure: https://t.co/K1ENddRMtH https://t.co/p9RkzurxDs\n",
      "pos : .@realDonaldTrump, FYI: Федеральная служба безопасности Российской Федерации =/= @CIA, @NSAGov, or @FBI.\n",
      "https://t.co/WkESVXnNA6\n",
      "neg : Tune into the now LIVE forum to hear from panelists, including Dr. Kahn about the #MuslimBan https://t.co/zqeyFkFppX https://t.co/suovuLy8Bg\n",
      "pos : JOBS: The AR1 will provide the US with a new, world-competitive engine for launch vehicles, 100 jobs for Alabamians. https://t.co/jRFqrUsNt8\n",
      "pos : We're working to ensure the hiring freeze does not prevent the @forestservice from preparing for wildfire season. https://t.co/RPOOEEzjsd\n",
      "pos : A new era of transparency begins at the @FCC  Thank you @AjitPaiFCC and @mikeoreilly https://t.co/ExPWdSKqhd\n",
      "pos : .@MichStatePolice still working hard to track down Officer Collin Rose’s killer, but they need your help… https://t.co/xHccCTuRS4\n",
      "pos : .@realDonaldTrump What's your stance on painkillers? Beta-endorphins invented at #UCBerkeley\n",
      "neg : Discrimination under the guise of \"religious freedom\" is still discrimination. I urge @POTUS not to reconsider.\n",
      "https://t.co/v2g9tOSzXP\n",
      "pos : @Fortunatebri I have no doubt. But I also know I can do a better job of jackasses currently in there - if you'll excuse my donkey mouth.\n",
      "pos : Great news from @AjiPaiFCC today – promise to make @FCC more open &amp; transparent, giving radio broadcasters more flexibility. #ProcessReform\n",
      "neg : RT @zenbeatnik: @Scotttaylorva But executed by Trump. The blaming of Obama must stop.\n"
     ]
    }
   ],
   "source": [
    "for i in range(30):\n",
    "    print('{} : {}'.format(classified_tweets[i][0], classified_tweets[i][1]))"
   ]
  },
  {
   "cell_type": "code",
   "execution_count": 18,
   "metadata": {
    "collapsed": true
   },
   "outputs": [],
   "source": [
    "# seperate the classification into positive and negative buckets\n",
    "pos_class = [thing for thing in classed if thing =='pos']\n",
    "neg_class = [thing for thing in classed if thing == 'neg']"
   ]
  },
  {
   "cell_type": "code",
   "execution_count": 23,
   "metadata": {
    "collapsed": false
   },
   "outputs": [
    {
     "name": "stdout",
     "output_type": "stream",
     "text": [
      "positive class: 51,260 tweets - 75.65%\n",
      "negative class: 16,496 tweets - 24.35%\n"
     ]
    }
   ],
   "source": [
    "# calculate class percentage of whole\n",
    "split = [len(pos_class), len(neg_class)]\n",
    "print('positive class: {:,} tweets - {:.2%}'.format(split[0], split[0]/(len(classed))))\n",
    "print('negative class: {:,} tweets - {:.2%}'.format(split[1], split[1]/(len(classed))))"
   ]
  },
  {
   "cell_type": "code",
   "execution_count": 24,
   "metadata": {
    "collapsed": false
   },
   "outputs": [],
   "source": [
    "split_series = pandas.Series(split, index=['pos', 'neg'])"
   ]
  },
  {
   "cell_type": "code",
   "execution_count": 30,
   "metadata": {
    "collapsed": false
   },
   "outputs": [
    {
     "data": {
      "text/plain": [
       "<matplotlib.axes._subplots.AxesSubplot at 0x124d13390>"
      ]
     },
     "execution_count": 30,
     "metadata": {},
     "output_type": "execute_result"
    },
    {
     "data": {
      "image/png": "[encoded data removed]",
      "text/plain": [
       "<matplotlib.figure.Figure at 0x124d589b0>"
      ]
     },
     "metadata": {},
     "output_type": "display_data"
    }
   ],
   "source": [
    "split_series.plot.bar(title='DELETED TWEETS BY SENTIMENT')"
   ]
  },
  {
   "cell_type": "markdown",
   "metadata": {},
   "source": [
    "***\n",
    "## *CONCLUSION*"
   ]
  },
  {
   "cell_type": "markdown",
   "metadata": {},
   "source": [
    "The classifier split the tweets into 51,260 positive tweets and 16,496 negative tweets. The weight toward the positive class may be related to the political context of the tweets: politicians are likely to use twitter to express positive sentiment about their actions or things they support, such as policy or legislation. This is perhaps unique to political tweets in that the regular population's tweets are likely to be more personal and quotidian in nature, and therefore may not be so heavily weighted toward the positive class. Also, as stated above, the addition of a neutral class would change this distribution significantly, although we would expect more positive classes to change to neutral in that case than negative to neutral."
   ]
  }
 ],
 "metadata": {
  "kernelspec": {
   "display_name": "Python 3",
   "language": "python",
   "name": "python3"
  },
  "language_info": {
   "codemirror_mode": {
    "name": "ipython",
    "version": 3
   },
   "file_extension": ".py",
   "mimetype": "text/x-python",
   "name": "python",
   "nbconvert_exporter": "python",
   "pygments_lexer": "ipython3",
   "version": "3.5.1"
  }
 },
 "nbformat": 4,
 "nbformat_minor": 0
}
