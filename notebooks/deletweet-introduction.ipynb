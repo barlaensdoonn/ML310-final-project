{
 "cells": [
  {
   "cell_type": "markdown",
   "metadata": {},
   "source": [
    "# DELETWEET\n",
    "### *APPLYING TEXT MINING AND A RECOMMENDATION SYSTEM TO POLITICIAN'S DELETED TWEETS*\n",
    "***"
   ]
  },
  {
   "cell_type": "markdown",
   "metadata": {},
   "source": [
    "## *INTRODUCTION*"
   ]
  },
  {
   "cell_type": "markdown",
   "metadata": {},
   "source": [
    "In the wake of the recent US presidential election, the humble tweet has been thrust to the forefront of social and political consciousness. 38.5 million people follow Donald Trump on Twitter via his two handles, @POTUS (the official acting US president’s account) and @realDonaldTrump, and probably a billion more keep track of his tweets via the news media and other outlets. His casual remarks elicit palpable responses from financial markets, and influential public policy takes shape from seemingly off-the-cuff statements. In other words, these snippets of 140 characters or less have the power to move huge sums of money and influence millions of people’s lives in real and profound ways.\n",
    "\n",
    "In this climate, a weather report of sorts is called for. This project aims to examine tweets by politicians more closely, specifically those tweets that have been deleted. At our request [ProPublica](https://www.propublica.org/) has generously provided their [Politwoops](https://projects.propublica.org/politwoops/) dataset, which consists of tweets deleted by politicians and public officials in the United States. We aim to discern patterns in the text via machine learning, text mining, and natural language processing. We will also attempt to demonstrate a recommendation system that suggests relevant hashtags for a tweet."
   ]
  },
  {
   "cell_type": "markdown",
   "metadata": {},
   "source": [
    "## *QUESTIONS*"
   ]
  },
  {
   "cell_type": "markdown",
   "metadata": {},
   "source": [
    "This project applies text mining, natural language processing, and machine learning to answer 4 questions:\n",
    " * What are the most common topics in the dataset?\n",
    " * What are the most common sentiments or emotions expressed in the dataset?\n",
    " * Are the deleted tweets more likely to be authored at a particular time of day or day of the week?\n",
    " * Is it possible to recommend hashtags for a tweet based on its content?"
   ]
  }
 ],
 "metadata": {
  "kernelspec": {
   "display_name": "Python 3",
   "language": "python",
   "name": "python3"
  },
  "language_info": {
   "codemirror_mode": {
    "name": "ipython",
    "version": 3
   },
   "file_extension": ".py",
   "mimetype": "text/x-python",
   "name": "python",
   "nbconvert_exporter": "python",
   "pygments_lexer": "ipython3",
   "version": "3.5.1"
  }
 },
 "nbformat": 4,
 "nbformat_minor": 0
}
